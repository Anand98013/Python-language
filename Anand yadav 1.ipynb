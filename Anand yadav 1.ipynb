{
 "cells": [
  {
   "cell_type": "code",
   "execution_count": 1,
   "id": "32e85cbf",
   "metadata": {},
   "outputs": [
    {
     "name": "stdout",
     "output_type": "stream",
     "text": [
      "hello\n"
     ]
    }
   ],
   "source": [
    "print(\"hello\")"
   ]
  },
  {
   "cell_type": "code",
   "execution_count": 2,
   "id": "ae3dd433",
   "metadata": {},
   "outputs": [
    {
     "name": "stdout",
     "output_type": "stream",
     "text": [
      "Anand kumar\n"
     ]
    }
   ],
   "source": [
    "print(\"Anand kumar\")"
   ]
  },
  {
   "cell_type": "code",
   "execution_count": 5,
   "id": "81a54b66",
   "metadata": {},
   "outputs": [
    {
     "name": "stdout",
     "output_type": "stream",
     "text": [
      "my name is Anand kumar Anand kumar\n",
      "my Reg no is 210101120113\n"
     ]
    }
   ],
   "source": [
    "name=\"Anand kumar\"\n",
    "num=210101120113\n",
    "print(\"my name is Anand kumar\",name)\n",
    "print(\"my Reg no is\",num)"
   ]
  },
  {
   "cell_type": "code",
   "execution_count": 6,
   "id": "8836bdb7",
   "metadata": {},
   "outputs": [
    {
     "data": {
      "text/plain": [
       "0"
      ]
     },
     "execution_count": 6,
     "metadata": {},
     "output_type": "execute_result"
    }
   ],
   "source": [
    "10 % 5"
   ]
  },
  {
   "cell_type": "code",
   "execution_count": 7,
   "id": "7c2d8474",
   "metadata": {},
   "outputs": [
    {
     "data": {
      "text/plain": [
       "1"
      ]
     },
     "execution_count": 7,
     "metadata": {},
     "output_type": "execute_result"
    }
   ],
   "source": [
    "10 % 3"
   ]
  },
  {
   "cell_type": "code",
   "execution_count": 8,
   "id": "5c722e77",
   "metadata": {},
   "outputs": [
    {
     "data": {
      "text/plain": [
       "18"
      ]
     },
     "execution_count": 8,
     "metadata": {},
     "output_type": "execute_result"
    }
   ],
   "source": [
    "10+8"
   ]
  },
  {
   "cell_type": "code",
   "execution_count": 9,
   "id": "2b7cf7dc",
   "metadata": {},
   "outputs": [
    {
     "data": {
      "text/plain": [
       "50"
      ]
     },
     "execution_count": 9,
     "metadata": {},
     "output_type": "execute_result"
    }
   ],
   "source": [
    "10*5"
   ]
  },
  {
   "cell_type": "code",
   "execution_count": 10,
   "id": "410ef2bd",
   "metadata": {},
   "outputs": [
    {
     "data": {
      "text/plain": [
       "3.3333333333333335"
      ]
     },
     "execution_count": 10,
     "metadata": {},
     "output_type": "execute_result"
    }
   ],
   "source": [
    "10/3"
   ]
  },
  {
   "cell_type": "code",
   "execution_count": 11,
   "id": "6029d5fc",
   "metadata": {},
   "outputs": [
    {
     "data": {
      "text/plain": [
       "36"
      ]
     },
     "execution_count": 11,
     "metadata": {},
     "output_type": "execute_result"
    }
   ],
   "source": [
    "6**2 #exponent"
   ]
  },
  {
   "cell_type": "code",
   "execution_count": 12,
   "id": "717b5705",
   "metadata": {},
   "outputs": [
    {
     "data": {
      "text/plain": [
       "0"
      ]
     },
     "execution_count": 12,
     "metadata": {},
     "output_type": "execute_result"
    }
   ],
   "source": [
    "25 % 5 # modulus operator"
   ]
  },
  {
   "cell_type": "code",
   "execution_count": 13,
   "id": "72495909",
   "metadata": {},
   "outputs": [
    {
     "data": {
      "text/plain": [
       "182"
      ]
     },
     "execution_count": 13,
     "metadata": {},
     "output_type": "execute_result"
    }
   ],
   "source": [
    "(5+8) * (5+9)"
   ]
  },
  {
   "cell_type": "code",
   "execution_count": 14,
   "id": "dbb92c2f",
   "metadata": {},
   "outputs": [],
   "source": [
    "least_number=20"
   ]
  },
  {
   "cell_type": "code",
   "execution_count": 15,
   "id": "2da0bd63",
   "metadata": {},
   "outputs": [
    {
     "data": {
      "text/plain": [
       "20"
      ]
     },
     "execution_count": 15,
     "metadata": {},
     "output_type": "execute_result"
    }
   ],
   "source": [
    "least_number"
   ]
  },
  {
   "cell_type": "code",
   "execution_count": 16,
   "id": "f9f32a8e",
   "metadata": {},
   "outputs": [],
   "source": [
    "my_reg_number=210101120113"
   ]
  },
  {
   "cell_type": "code",
   "execution_count": 17,
   "id": "43778926",
   "metadata": {},
   "outputs": [
    {
     "data": {
      "text/plain": [
       "210101120113"
      ]
     },
     "execution_count": 17,
     "metadata": {},
     "output_type": "execute_result"
    }
   ],
   "source": [
    "my_reg_number"
   ]
  },
  {
   "cell_type": "code",
   "execution_count": 18,
   "id": "88b8d57b",
   "metadata": {},
   "outputs": [],
   "source": [
    "x=15\n",
    "y=14\n",
    "z=x+y"
   ]
  },
  {
   "cell_type": "code",
   "execution_count": 19,
   "id": "0182753d",
   "metadata": {},
   "outputs": [
    {
     "data": {
      "text/plain": [
       "29"
      ]
     },
     "execution_count": 19,
     "metadata": {},
     "output_type": "execute_result"
    }
   ],
   "source": [
    "z"
   ]
  },
  {
   "cell_type": "code",
   "execution_count": 20,
   "id": "40e0c859",
   "metadata": {},
   "outputs": [
    {
     "data": {
      "text/plain": [
       "'single quotes'"
      ]
     },
     "execution_count": 20,
     "metadata": {},
     "output_type": "execute_result"
    }
   ],
   "source": [
    "'single quotes'"
   ]
  },
  {
   "cell_type": "code",
   "execution_count": 21,
   "id": "2b1d6ccb",
   "metadata": {},
   "outputs": [],
   "source": [
    "x=\"hello\""
   ]
  },
  {
   "cell_type": "code",
   "execution_count": 22,
   "id": "ebe350bc",
   "metadata": {},
   "outputs": [
    {
     "data": {
      "text/plain": [
       "'hello'"
      ]
     },
     "execution_count": 22,
     "metadata": {},
     "output_type": "execute_result"
    }
   ],
   "source": [
    "x"
   ]
  },
  {
   "cell_type": "code",
   "execution_count": 23,
   "id": "aee96446",
   "metadata": {},
   "outputs": [
    {
     "data": {
      "text/plain": [
       "4"
      ]
     },
     "execution_count": 23,
     "metadata": {},
     "output_type": "execute_result"
    }
   ],
   "source": [
    "50//12"
   ]
  },
  {
   "cell_type": "code",
   "execution_count": 24,
   "id": "1c5897d5",
   "metadata": {},
   "outputs": [
    {
     "data": {
      "text/plain": [
       "2.0"
      ]
     },
     "execution_count": 24,
     "metadata": {},
     "output_type": "execute_result"
    }
   ],
   "source": [
    "32.5//12.5"
   ]
  },
  {
   "cell_type": "code",
   "execution_count": 25,
   "id": "171f37f2",
   "metadata": {},
   "outputs": [
    {
     "data": {
      "text/plain": [
       "0"
      ]
     },
     "execution_count": 25,
     "metadata": {},
     "output_type": "execute_result"
    }
   ],
   "source": [
    "25%5"
   ]
  },
  {
   "cell_type": "code",
   "execution_count": 26,
   "id": "3d509030",
   "metadata": {},
   "outputs": [
    {
     "data": {
      "text/plain": [
       "2.2222222222222223"
      ]
     },
     "execution_count": 26,
     "metadata": {},
     "output_type": "execute_result"
    }
   ],
   "source": [
    "((5+5)*(5+5)/(9*5))"
   ]
  },
  {
   "cell_type": "code",
   "execution_count": 27,
   "id": "7951be6c",
   "metadata": {},
   "outputs": [
    {
     "data": {
      "text/plain": [
       "17"
      ]
     },
     "execution_count": 27,
     "metadata": {},
     "output_type": "execute_result"
    }
   ],
   "source": [
    "my_name_is=\"Anand\"\n",
    "len('My_name_is_=Anand')"
   ]
  },
  {
   "cell_type": "code",
   "execution_count": 31,
   "id": "1df44c33",
   "metadata": {},
   "outputs": [
    {
     "name": "stdout",
     "output_type": "stream",
     "text": [
      "Total population= 198658\n",
      "Men population= 45312\n",
      "Women population 35678\n",
      "children_population 117668\n"
     ]
    }
   ],
   "source": [
    "Total_population=198658\n",
    "print(\"Total population=\",Total_population)\n",
    "Men_population=45312\n",
    "print(\"Men population=\",Men_population)\n",
    "Women_population=35678\n",
    "print(\"Women population\",Women_population)\n",
    "children_population=Total_population-(Men_population+Women_population)\n",
    "print(\"children_population\",children_population)"
   ]
  },
  {
   "cell_type": "code",
   "execution_count": 35,
   "id": "aa72f418",
   "metadata": {},
   "outputs": [
    {
     "name": "stdout",
     "output_type": "stream",
     "text": [
      "cost_of_1_radio_set 1475\n",
      "Total no radio set 35\n",
      "cost of 35 radio sets $51625\n"
     ]
    }
   ],
   "source": [
    "cost_of_1_radio_set=1475\n",
    "print(\"cost_of_1_radio_set\",cost_of_1_radio_set)\n",
    "Total_no_of_radio_sets=35\n",
    "print(\"Total no radio set\",Total_no_radio_set)\n",
    "cost_of_35_radio_sets=cost_of_1_radio_set*Total_no_of_radio_sets\n",
    "print(\"cost of 35 radio sets $\"+str(cost_of_35_radio_sets))"
   ]
  },
  {
   "cell_type": "code",
   "execution_count": 36,
   "id": "b48a36e4",
   "metadata": {},
   "outputs": [
    {
     "name": "stdout",
     "output_type": "stream",
     "text": [
      "people voted for ron 52496\n",
      "people voted for john 44929\n",
      "people voted for mike 36824\n",
      "total number of voters 134249\n"
     ]
    }
   ],
   "source": [
    "people_voted_for_ron=52496\n",
    "print(\"people voted for ron\",people_voted_for_ron)\n",
    "people_voted_for_john=44929\n",
    "print(\"people voted for john\",people_voted_for_john)\n",
    "people_voted_for_mike=36824\n",
    "print(\"people voted for mike\",people_voted_for_mike)\n",
    "total_number_of_voters=people_voted_for_ron+people_voted_for_john+people_voted_for_mike\n",
    "print(\"total number of voters\",total_number_of_voters)"
   ]
  },
  {
   "cell_type": "code",
   "execution_count": 38,
   "id": "61735fd9",
   "metadata": {},
   "outputs": [
    {
     "name": "stdout",
     "output_type": "stream",
     "text": [
      "input from keyboard6\n",
      "square of the number 36\n"
     ]
    }
   ],
   "source": [
    "x=input('input from keyboard')\n",
    "x=int(x)\n",
    "x=x**2\n",
    "print(\"square of the number\",x)"
   ]
  },
  {
   "cell_type": "code",
   "execution_count": 39,
   "id": "c4b87f66",
   "metadata": {},
   "outputs": [
    {
     "name": "stdout",
     "output_type": "stream",
     "text": [
      "The base of the triangle 12\n",
      "The height of triangle 15\n",
      "Area of triangle 90.0\n"
     ]
    }
   ],
   "source": [
    "The_base_of_triangle=12\n",
    "print(\"The base of the triangle\",The_base_of_triangle)\n",
    "The_height_of_triangle=15\n",
    "print(\"The height of triangle\",The_height_of_triangle)\n",
    "Area_of_triangle=1/2*The_base_of_triangle*The_height_of_triangle\n",
    "print(\"Area of triangle\",Area_of_triangle)"
   ]
  },
  {
   "cell_type": "code",
   "execution_count": 40,
   "id": "59e0710a",
   "metadata": {},
   "outputs": [
    {
     "name": "stdout",
     "output_type": "stream",
     "text": [
      "2020 is not a leap year\n"
     ]
    }
   ],
   "source": [
    "year = 2020\n",
    "if(year % 4)==0:\n",
    "    if(year % 100)==0:\n",
    "        if(year % 400)==0:\n",
    "            print(\"{0} is a leap year\".format(year))\n",
    "        else:\n",
    "            print(\"{0} is not a leap year\".format(year))\n",
    "    else:\n",
    "        print(\"{0} is not a leap year\".format(year))\n",
    "else:\n",
    "    print(\"{0} is not a leap year\".format(year))"
   ]
  },
  {
   "cell_type": "code",
   "execution_count": 47,
   "id": "e0e641f1",
   "metadata": {},
   "outputs": [
    {
     "name": "stdout",
     "output_type": "stream",
     "text": [
      "temperature in fahernheit 95.0\n"
     ]
    }
   ],
   "source": [
    "temperature_in_celsius = 30\n",
    "temperature_in_fahernheit=(temperature_in_celsius*5/2+20)\n",
    "print(\"temperature in fahernheit\",temperature_in_fahernheit)"
   ]
  },
  {
   "cell_type": "code",
   "execution_count": 48,
   "id": "95b12aee",
   "metadata": {},
   "outputs": [],
   "source": [
    "my_favourite_number = 10\n",
    "my_least_favourite_number = 5\n",
    "a_neutral_number = 2"
   ]
  },
  {
   "cell_type": "code",
   "execution_count": 49,
   "id": "21755990",
   "metadata": {},
   "outputs": [
    {
     "data": {
      "text/plain": [
       "False"
      ]
     },
     "execution_count": 49,
     "metadata": {},
     "output_type": "execute_result"
    }
   ],
   "source": [
    "# Equality check - True\n",
    "my_favourite_number == my_least_favourite_number"
   ]
  },
  {
   "cell_type": "code",
   "execution_count": 51,
   "id": "c33b1da5",
   "metadata": {},
   "outputs": [
    {
     "data": {
      "text/plain": [
       "True"
      ]
     },
     "execution_count": 51,
     "metadata": {},
     "output_type": "execute_result"
    }
   ],
   "source": [
    "my_least_favourite_number != my_favourite_number"
   ]
  },
  {
   "cell_type": "code",
   "execution_count": 52,
   "id": "95c64444",
   "metadata": {},
   "outputs": [
    {
     "data": {
      "text/plain": [
       "False"
      ]
     },
     "execution_count": 52,
     "metadata": {},
     "output_type": "execute_result"
    }
   ],
   "source": [
    "my_favourite_number <= a_neutral_number"
   ]
  },
  {
   "cell_type": "code",
   "execution_count": 53,
   "id": "38974e60",
   "metadata": {},
   "outputs": [
    {
     "data": {
      "text/plain": [
       "False"
      ]
     },
     "execution_count": 53,
     "metadata": {},
     "output_type": "execute_result"
    }
   ],
   "source": [
    "a_neutral_number > my_favourite_number"
   ]
  },
  {
   "cell_type": "code",
   "execution_count": 54,
   "id": "afec02fd",
   "metadata": {},
   "outputs": [
    {
     "data": {
      "text/plain": [
       "False"
      ]
     },
     "execution_count": 54,
     "metadata": {},
     "output_type": "execute_result"
    }
   ],
   "source": [
    "10+20 != 30"
   ]
  },
  {
   "cell_type": "code",
   "execution_count": 55,
   "id": "6a2b91e8",
   "metadata": {},
   "outputs": [
    {
     "data": {
      "text/plain": [
       "True"
      ]
     },
     "execution_count": 55,
     "metadata": {},
     "output_type": "execute_result"
    }
   ],
   "source": [
    "my_favourite_number > 0 and my_favourite_number >=10"
   ]
  },
  {
   "cell_type": "code",
   "execution_count": 56,
   "id": "a14dd909",
   "metadata": {},
   "outputs": [
    {
     "data": {
      "text/plain": [
       "True"
      ]
     },
     "execution_count": 56,
     "metadata": {},
     "output_type": "execute_result"
    }
   ],
   "source": [
    "my_favourite_number < 20 and my_favourite_number >= 5"
   ]
  },
  {
   "cell_type": "code",
   "execution_count": 58,
   "id": "8e837afd",
   "metadata": {},
   "outputs": [
    {
     "name": "stdout",
     "output_type": "stream",
     "text": [
      "is the ice bag expensive? True\n"
     ]
    }
   ],
   "source": [
    "cost_of_ice_bag = 12\n",
    "is_ice_bag_expensive = cost_of_ice_bag >= 12\n",
    "print(\"is the ice bag expensive?\",is_ice_bag_expensive)"
   ]
  },
  {
   "cell_type": "code",
   "execution_count": 59,
   "id": "70c2abe5",
   "metadata": {},
   "outputs": [
    {
     "data": {
      "text/plain": [
       "False"
      ]
     },
     "execution_count": 59,
     "metadata": {},
     "output_type": "execute_result"
    }
   ],
   "source": [
    "False and False"
   ]
  },
  {
   "cell_type": "code",
   "execution_count": 60,
   "id": "3596848b",
   "metadata": {},
   "outputs": [
    {
     "data": {
      "text/plain": [
       "True"
      ]
     },
     "execution_count": 60,
     "metadata": {},
     "output_type": "execute_result"
    }
   ],
   "source": [
    "False or True"
   ]
  },
  {
   "cell_type": "code",
   "execution_count": 61,
   "id": "3b0f962b",
   "metadata": {},
   "outputs": [
    {
     "data": {
      "text/plain": [
       "False"
      ]
     },
     "execution_count": 61,
     "metadata": {},
     "output_type": "execute_result"
    }
   ],
   "source": [
    "True and False"
   ]
  },
  {
   "cell_type": "code",
   "execution_count": 62,
   "id": "16be623f",
   "metadata": {},
   "outputs": [
    {
     "data": {
      "text/plain": [
       "True"
      ]
     },
     "execution_count": 62,
     "metadata": {},
     "output_type": "execute_result"
    }
   ],
   "source": [
    "False or True"
   ]
  },
  {
   "cell_type": "code",
   "execution_count": 63,
   "id": "e21f6706",
   "metadata": {},
   "outputs": [
    {
     "data": {
      "text/plain": [
       "True"
      ]
     },
     "execution_count": 63,
     "metadata": {},
     "output_type": "execute_result"
    }
   ],
   "source": [
    "9*9 != 50"
   ]
  },
  {
   "cell_type": "code",
   "execution_count": 1,
   "id": "007e2b9b",
   "metadata": {},
   "outputs": [
    {
     "data": {
      "text/plain": [
       "False"
      ]
     },
     "execution_count": 1,
     "metadata": {},
     "output_type": "execute_result"
    }
   ],
   "source": [
    "10 + 20 >=50"
   ]
  },
  {
   "cell_type": "code",
   "execution_count": 2,
   "id": "c6136cc2",
   "metadata": {},
   "outputs": [],
   "source": [
    "a_number=50"
   ]
  },
  {
   "cell_type": "code",
   "execution_count": 3,
   "id": "ad0d0b9c",
   "metadata": {},
   "outputs": [
    {
     "name": "stdout",
     "output_type": "stream",
     "text": [
      "we're inside an if block\n",
      "the given number 50 is even.\n"
     ]
    }
   ],
   "source": [
    "if a_number % 2 == 0:\n",
    "    print(\"we're inside an if block\")\n",
    "    print(\"the given number {} is even.\".format(a_number))"
   ]
  },
  {
   "cell_type": "code",
   "execution_count": 5,
   "id": "206600f8",
   "metadata": {},
   "outputs": [
    {
     "name": "stdout",
     "output_type": "stream",
     "text": [
      "the given number 50 is odd.\n"
     ]
    }
   ],
   "source": [
    "if a_number % 3 == 0:\n",
    "    print(\"the given number {} is even.\".format(a_number))\n",
    "elif a_number % 5 == 0:\n",
    "    print(\"the given number {} is odd.\".format(a_number))"
   ]
  },
  {
   "cell_type": "code",
   "execution_count": 6,
   "id": "60cc6208",
   "metadata": {},
   "outputs": [],
   "source": [
    "today = 'monday'"
   ]
  },
  {
   "cell_type": "code",
   "execution_count": 7,
   "id": "01cd390f",
   "metadata": {},
   "outputs": [
    {
     "name": "stdout",
     "output_type": "stream",
     "text": [
      "today is the day of moon.\n",
      "end of the test\n"
     ]
    }
   ],
   "source": [
    "if today == \"sunday\":\n",
    "    print(\"today is the day of sun.\")\n",
    "elif today == \"monday\":\n",
    "    print(\"today is the day of moon.\")\n",
    "print(\"end of the test\")"
   ]
  },
  {
   "cell_type": "code",
   "execution_count": 9,
   "id": "0e69e8b3",
   "metadata": {},
   "outputs": [],
   "source": [
    "today = 'sunday'"
   ]
  },
  {
   "cell_type": "code",
   "execution_count": 10,
   "id": "43b4b709",
   "metadata": {},
   "outputs": [
    {
     "name": "stdout",
     "output_type": "stream",
     "text": [
      "today is the day of sun.\n"
     ]
    }
   ],
   "source": [
    "if today == 'sunday':\n",
    "    print('today is the day of sun.')"
   ]
  },
  {
   "cell_type": "code",
   "execution_count": 11,
   "id": "982b8731",
   "metadata": {},
   "outputs": [],
   "source": [
    "today = 'saturday'"
   ]
  },
  {
   "cell_type": "code",
   "execution_count": 12,
   "id": "8e6c65c8",
   "metadata": {},
   "outputs": [
    {
     "name": "stdout",
     "output_type": "stream",
     "text": [
      "today is the day of party.\n"
     ]
    }
   ],
   "source": [
    "if today == 'sunday':\n",
    "    print(\"today is the day of sun.\")\n",
    "elif today == 'monday':\n",
    "    print(\"today is the day of moon.\")\n",
    "elif today == 'tuesday':\n",
    "    print(\"today is the day of tyr.\")\n",
    "elif today == 'wednesday':\n",
    "    print(\"today is the day of supreme.\")\n",
    "elif today == 'thursday':\n",
    "    print(\"today is the day of thrill.\")\n",
    "elif today == 'friday':\n",
    "    print(\"today is the day of fun.\")\n",
    "elif today == 'saturday':\n",
    "    print(\"today is the day of party.\")"
   ]
  },
  {
   "cell_type": "code",
   "execution_count": 13,
   "id": "4c9df308",
   "metadata": {},
   "outputs": [],
   "source": [
    "a_number = 50"
   ]
  },
  {
   "cell_type": "code",
   "execution_count": 14,
   "id": "6d620046",
   "metadata": {},
   "outputs": [
    {
     "name": "stdout",
     "output_type": "stream",
     "text": [
      "the given number 50  is even.\n",
      "the given number 50 is even.\n"
     ]
    }
   ],
   "source": [
    "if a_number % 2 == 0:\n",
    "    print(\"the given number {}  is even.\".format(a_number))\n",
    "if a_number % 5 == 0:\n",
    "    print(\"the given number {} is even.\".format(a_number))"
   ]
  },
  {
   "cell_type": "code",
   "execution_count": null,
   "id": "ef4003ea",
   "metadata": {},
   "outputs": [],
   "source": []
  }
 ],
 "metadata": {
  "kernelspec": {
   "display_name": "Python 3 (ipykernel)",
   "language": "python",
   "name": "python3"
  },
  "language_info": {
   "codemirror_mode": {
    "name": "ipython",
    "version": 3
   },
   "file_extension": ".py",
   "mimetype": "text/x-python",
   "name": "python",
   "nbconvert_exporter": "python",
   "pygments_lexer": "ipython3",
   "version": "3.9.7"
  }
 },
 "nbformat": 4,
 "nbformat_minor": 5
}
